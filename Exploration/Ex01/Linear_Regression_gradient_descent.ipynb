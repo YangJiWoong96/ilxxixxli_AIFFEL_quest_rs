{
 "cells": [
  {
   "cell_type": "code",
   "execution_count": 1,
   "id": "c55ee2df",
   "metadata": {},
   "outputs": [],
   "source": [
    "import numpy as np\n",
    "from sklearn.datasets import load_diabetes\n",
    "from sklearn.model_selection import train_test_split\n",
    "import matplotlib.pyplot as plt\n"
   ]
  },
  {
   "cell_type": "code",
   "execution_count": 2,
   "id": "abda8ded",
   "metadata": {},
   "outputs": [
    {
     "name": "stdout",
     "output_type": "stream",
     "text": [
      "Epoch 0, Loss: 29696.47665412859\n",
      "Epoch 100, Loss: 5376.41843809559\n",
      "Epoch 200, Loss: 4874.75811691111\n",
      "Epoch 300, Loss: 4501.729997435487\n",
      "Epoch 400, Loss: 4220.662385042946\n",
      "Epoch 500, Loss: 4005.7568518501685\n",
      "Epoch 600, Loss: 3838.8198528735866\n",
      "Epoch 700, Loss: 3706.981459776186\n",
      "Epoch 800, Loss: 3601.1025842606377\n",
      "Epoch 900, Loss: 3514.6624597386344\n",
      "Epoch 1000, Loss: 3442.981176888369\n",
      "Epoch 1100, Loss: 3382.6760135319264\n",
      "Epoch 1200, Loss: 3331.2809398658733\n",
      "Epoch 1300, Loss: 3286.980044817505\n",
      "Epoch 1400, Loss: 3248.4205267346583\n",
      "Epoch 1500, Loss: 3214.581279875239\n",
      "Epoch 1600, Loss: 3184.680352454951\n",
      "Epoch 1700, Loss: 3158.1096041726896\n",
      "Epoch 1800, Loss: 3134.3884147930266\n",
      "Epoch 1900, Loss: 3113.130753219115\n",
      "Epoch 2000, Loss: 3094.0216311403883\n",
      "Epoch 2100, Loss: 3076.8001617179402\n",
      "Epoch 2200, Loss: 3061.2472787094803\n",
      "Epoch 2300, Loss: 3047.176754288845\n",
      "Epoch 2400, Loss: 3034.428560833693\n",
      "Epoch 2500, Loss: 3022.8639063097644\n",
      "Epoch 2600, Loss: 3012.3614716495745\n",
      "Epoch 2700, Loss: 3002.8145175657833\n",
      "Epoch 2800, Loss: 2994.128625589183\n",
      "Epoch 2900, Loss: 2986.2199063577054\n",
      "Test Loss: 2870.4683059574286\n"
     ]
    },
    {
     "data": {
      "image/png": "[encoded data removed]",
      "text/plain": [
       "<Figure size 432x288 with 1 Axes>"
      ]
     },
     "metadata": {
      "needs_background": "light"
     },
     "output_type": "display_data"
    }
   ],
   "source": [
    "\n",
    "\n",
    "#1. Bring on the Data😎\n",
    "data = load_diabetes()\n",
    "df_X = data.data  # feature\n",
    "df_y = data.target  # target\n",
    "\n",
    "\n",
    "#2. Transform to Numpy array (X)\n",
    "X = np.array(df_X)\n",
    "\n",
    "#3. Transform to Numpy array (y)\n",
    "y = np.array(df_y)\n",
    "\n",
    "\n",
    "#4. Separate to Train and Test Data\n",
    "X_train, X_test, y_train, y_test = train_test_split(X, y, test_size=0.2, random_state=42)\n",
    "\n",
    "#5. Define Weights and bias : Initialize the Parameters\n",
    "np.random.seed(42)\n",
    "W = np.random.rand(X_train.shape[1]) #Weights\n",
    "b = 0 #bias\n",
    "epochs = 3000\n",
    "\n",
    "#6. Loss Function : Calculating MSE\n",
    "def lossfunc(y_true, y_pred):\n",
    "    mse = np.mean((y_true - y_pred) ** 2)\n",
    "    return mse\n",
    "\n",
    "# 7. Define Gradient Function\n",
    "\n",
    "def predict(X, W, b):\n",
    "    return np.dot(X, W) + b\n",
    "\n",
    "\n",
    "def gradient(X, y, W, b, learning_rate, epochs):\n",
    "    n = len(y)\n",
    "    for i in range(epochs):\n",
    "        # Predicrtion Value\n",
    "        y_pred = predict(X, W, b)\n",
    "\n",
    "        # MSE Loss Calculation\n",
    "        loss = lossfunc(y, y_pred)\n",
    "\n",
    "        # Slope Calculation\n",
    "        dw = -(2/n) * np.dot(X.T, (y - y_pred))\n",
    "        db = -(2/n) * np.sum(y - y_pred)\n",
    "\n",
    "        # Weights and bias Update\n",
    "        W -= learning_rate * dw\n",
    "        b -= learning_rate * db\n",
    "\n",
    "        # Print Loss every 100 epokes\n",
    "        if i % 100 == 0:\n",
    "            print(f\"Epoch {i}, Loss: {loss}\")\n",
    "\n",
    "    return W, b\n",
    "\n",
    "#8. Define Hyperparameter\n",
    "learning_rate = 0.1\n",
    "\n",
    "#9.  Learning Model\n",
    "W, b = gradient(X_train, y_train, W, b, learning_rate, epochs)\n",
    "\n",
    "#10. Check the Performance about Test data \n",
    "y_pred = predict(X_test, W, b)\n",
    "test_loss = lossfunc(y_test, y_pred)\n",
    "print(f\"Test Loss: {test_loss}\")\n",
    "\n",
    "#11. Visualization\n",
    "plt.scatter(X_test[:, 0], y_test, color='blue', label='Actual Target')\n",
    "plt.scatter(X_test[:, 0], y_pred, color='red', label='Predicted Target', alpha=0.6)\n",
    "plt.xlabel(\"First Feature of X\")\n",
    "plt.ylabel(\"Target Value\")\n",
    "plt.legend()\n",
    "plt.title(\"Actual vs Predicted Target Values\")\n",
    "plt.show()"
   ]
  },
  {
   "cell_type": "code",
   "execution_count": null,
   "id": "a52364a7",
   "metadata": {},
   "outputs": [],
   "source": []
  }
 ],
 "metadata": {
  "kernelspec": {
   "display_name": "Python 3 (ipykernel)",
   "language": "python",
   "name": "python3"
  },
  "language_info": {
   "codemirror_mode": {
    "name": "ipython",
    "version": 3
   },
   "file_extension": ".py",
   "mimetype": "text/x-python",
   "name": "python",
   "nbconvert_exporter": "python",
   "pygments_lexer": "ipython3",
   "version": "3.9.12"
  }
 },
 "nbformat": 4,
 "nbformat_minor": 5
}
