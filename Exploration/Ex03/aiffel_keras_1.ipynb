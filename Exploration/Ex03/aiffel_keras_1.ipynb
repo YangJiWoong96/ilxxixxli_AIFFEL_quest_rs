{
  "nbformat": 4,
  "nbformat_minor": 0,
  "metadata": {
    "colab": {
      "provenance": [],
      "gpuType": "T4"
    },
    "kernelspec": {
      "name": "python3",
      "display_name": "Python 3"
    },
    "language_info": {
      "name": "python"
    },
    "accelerator": "GPU"
  },
  "cells": [
    {
      "cell_type": "code",
      "execution_count": 1,
      "metadata": {
        "colab": {
          "base_uri": "https://localhost:8080/"
        },
        "id": "Rw5zXLI3xyhf",
        "outputId": "3fa18cbd-1bfd-45d0-8f12-659ec252e862"
      },
      "outputs": [
        {
          "output_type": "stream",
          "name": "stdout",
          "text": [
            "tf.Tensor(\n",
            "[[1.]\n",
            " [1.]], shape=(2, 1), dtype=float32)\n"
          ]
        }
      ],
      "source": [
        "import tensorflow as tf\n",
        "x = tf .ones(shape=(2,1)) #= np. 과 동일\n",
        "print(x)\n"
      ]
    },
    {
      "cell_type": "code",
      "source": [
        "y = tf .zeros(shape=(2,1)) #= np. 과 동일\n",
        "print(y)"
      ],
      "metadata": {
        "colab": {
          "base_uri": "https://localhost:8080/"
        },
        "id": "sG5baON3yyn6",
        "outputId": "95b51138-050f-4c37-900d-079a5e11e553"
      },
      "execution_count": 3,
      "outputs": [
        {
          "output_type": "stream",
          "name": "stdout",
          "text": [
            "tf.Tensor(\n",
            "[[0.]\n",
            " [0.]], shape=(2, 1), dtype=float32)\n"
          ]
        }
      ]
    },
    {
      "cell_type": "code",
      "source": [
        "z = tf.random.normal(shape=(3,1), mean = 0., stddev=1.)\n",
        "print(z)"
      ],
      "metadata": {
        "colab": {
          "base_uri": "https://localhost:8080/"
        },
        "id": "X2zzMAuBzPSL",
        "outputId": "cdfb3b54-04b7-49b0-baea-acacc8f2b145"
      },
      "execution_count": 5,
      "outputs": [
        {
          "output_type": "stream",
          "name": "stdout",
          "text": [
            "tf.Tensor(\n",
            "[[-0.8934207]\n",
            " [-1.0542204]\n",
            " [ 1.5780883]], shape=(3, 1), dtype=float32)\n"
          ]
        }
      ]
    },
    {
      "cell_type": "code",
      "source": [
        "a = tf.random.uniform(shape=(3,1), minval = 0., maxval=1.)\n",
        "print(z)"
      ],
      "metadata": {
        "colab": {
          "base_uri": "https://localhost:8080/"
        },
        "id": "BuizCTYdzi4z",
        "outputId": "c263cbd9-d150-4585-f6e2-54cadaf0579a"
      },
      "execution_count": 9,
      "outputs": [
        {
          "output_type": "stream",
          "name": "stdout",
          "text": [
            "tf.Tensor(\n",
            "[[-0.8934207]\n",
            " [-1.0542204]\n",
            " [ 1.5780883]], shape=(3, 1), dtype=float32)\n"
          ]
        }
      ]
    },
    {
      "cell_type": "code",
      "source": [
        "#Tensor is constant, so we make Variable : tf.Variable\n",
        "\n",
        "v  = tf.Variable(initial_value=tf.random.normal(shape=(3, 1)))\n",
        "print(v)"
      ],
      "metadata": {
        "colab": {
          "base_uri": "https://localhost:8080/"
        },
        "id": "C9ybM0o7zzPl",
        "outputId": "f86df852-933f-44ba-a07c-92111742fd84"
      },
      "execution_count": 13,
      "outputs": [
        {
          "output_type": "stream",
          "name": "stdout",
          "text": [
            "<tf.Variable 'Variable:0' shape=(3, 1) dtype=float32, numpy=\n",
            "array([[ 0.23039736],\n",
            "       [ 1.2606622 ],\n",
            "       [-0.92142934]], dtype=float32)>\n"
          ]
        }
      ]
    },
    {
      "cell_type": "code",
      "source": [
        "num_samples_per_class = 1000\n",
        "\n",
        "negative_samples = np.random.multivariate_normal(\n",
        "    mean=[0, 3], cov=[[1, 0.5],[0.5, 1]], size=num_samples_per_class)\n",
        "positive_samples = np.random.multivariate_normal(\n",
        "    mean=[3, 0], cov=[[1, 0.5],[0.5, 1]], size=num_samples_per_class)\n",
        "\n"
      ],
      "metadata": {
        "id": "rBxgShRZ18T0"
      },
      "execution_count": null,
      "outputs": []
    }
  ]
}